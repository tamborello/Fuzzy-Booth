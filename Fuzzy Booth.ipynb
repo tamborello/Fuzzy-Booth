{
    "cells": [
        {
            "cell_type": "markdown",
            "metadata": {},
            "source": [
                "<h1>Fuzzy Booth</h1>\n",
                "\n",
                "<h2>Text Searching with Allowance by Levenshtein Distance</h2>\n",
                "\n",
                "For testing purposes, let's grab some test text from [Frankenstein, by Mary Shelley, from Project Gutenberg](https://www.gutenberg.org/files/84/84-h/84-h.htm)\n"
            ]
        },
        {
            "cell_type": "code",
            "execution_count": 7,
            "metadata": {},
            "outputs": [],
            "source": [
                "from FuzzyBooth import search_for_term"
            ]
        },
        {
            "cell_type": "code",
            "execution_count": 4,
            "metadata": {},
            "outputs": [],
            "source": [
                "\n",
                "text = \"I am already far north of London, and as I walk in the streets of Petersburgh, I feel a cold northern breeze play upon my cheeks, which braces my nerves and fills me with delight. Do you understand this feeling? This breeze, which has travelled from the regions towards which I am advancing, gives me a foretaste of those icy climes. Inspirited by this wind of promise, my daydreams become more fervent and vivid. I try in vain to be persuaded that the pole is the seat of frost and desolation; it ever presents itself to my imagination as the region of beauty and delight. There, Margaret, the sun is for ever visible, its broad disk just skirting the horizon and diffusing a perpetual splendour. There—for with your leave, my sister, I will put some trust in preceding navigators—there snow and frost are banished; and, sailing over a calm sea, we may be wafted to a land surpassing in wonders and in beauty every region hitherto discovered on the habitable globe. Its productions and features may be without example, as the phenomena of the heavenly bodies undoubtedly are in those undiscovered solitudes. What may not be expected in a country of eternal light? I may there discover the wondrous power which attracts the needle and may regulate a thousand celestial observations that require only this voyage to render their seeming eccentricities consistent for ever. I shall satiate my ardent curiosity with the sight of a part of the world never before visited, and may tread a land never before imprinted by the foot of man. These are my enticements, and they are sufficient to conquer all fear of danger or death and to induce me to commence this laborious voyage with the joy a child feels when he embarks in a little boat, with his holiday mates, on an expedition of discovery up his native river. But supposing all these conjectures to be false, you cannot contest the inestimable benefit which I shall confer on all mankind, to the last generation, by discovering a passage near the pole to those countries, to reach which at present so many months are requisite; or by ascertaining the secret of the magnet, which, if at all possible, can only be effected by an undertaking such as mine.\""
            ]
        },
        {
            "cell_type": "code",
            "execution_count": 8,
            "metadata": {},
            "outputs": [
                {
                    "ename": "UnboundLocalError",
                    "evalue": "local variable 'subseqSearchTerm' referenced before assignment",
                    "output_type": "error",
                    "traceback": [
                        "\u001b[1;31m---------------------------------------------------------------------------\u001b[0m",
                        "\u001b[1;31mNameError\u001b[0m                                 Traceback (most recent call last)",
                        "File \u001b[1;32mc:\\Users\\frank\\Documents\\Fuzzy-Booth\\FuzzyBooth.py:27\u001b[0m, in \u001b[0;36msearch_for_term\u001b[1;34m(Text, SearchTerm, Transpositions, SubstitutionCost, Criterion, CriterionScale)\u001b[0m\n\u001b[0;32m     <a href='file:///c%3A/Users/frank/Documents/Fuzzy-Booth/FuzzyBooth.py?line=24'>25</a>\u001b[0m \u001b[39mtry\u001b[39;00m: \n\u001b[0;32m     <a href='file:///c%3A/Users/frank/Documents/Fuzzy-Booth/FuzzyBooth.py?line=25'>26</a>\u001b[0m     \u001b[39m# If the search term is much longer than the text then punt\u001b[39;00m\n\u001b[1;32m---> <a href='file:///c%3A/Users/frank/Documents/Fuzzy-Booth/FuzzyBooth.py?line=26'>27</a>\u001b[0m     \u001b[39mif\u001b[39;00m \u001b[39mlen\u001b[39m(text) \u001b[39m<\u001b[39m SearchTermlen:\n\u001b[0;32m     <a href='file:///c%3A/Users/frank/Documents/Fuzzy-Booth/FuzzyBooth.py?line=27'>28</a>\u001b[0m         results\u001b[39m.\u001b[39mappend(resultTemplate)\n",
                        "\u001b[1;31mNameError\u001b[0m: name 'text' is not defined",
                        "\nDuring handling of the above exception, another exception occurred:\n",
                        "\u001b[1;31mUnboundLocalError\u001b[0m                         Traceback (most recent call last)",
                        "\u001b[1;32mc:\\Users\\frank\\Documents\\Fuzzy-Booth\\Fuzzy Booth.ipynb Cell 4'\u001b[0m in \u001b[0;36m<module>\u001b[1;34m\u001b[0m\n\u001b[1;32m----> <a href='vscode-notebook-cell:/c%3A/Users/frank/Documents/Fuzzy-Booth/Fuzzy%20Booth.ipynb#ch0000003?line=0'>1</a>\u001b[0m search_for_term(Text\u001b[39m=\u001b[39;49mtext, SearchTerm\u001b[39m=\u001b[39;49m\u001b[39m'\u001b[39;49m\u001b[39mLonden\u001b[39;49m\u001b[39m'\u001b[39;49m)\n",
                        "File \u001b[1;32mc:\\Users\\frank\\Documents\\Fuzzy-Booth\\FuzzyBooth.py:61\u001b[0m, in \u001b[0;36msearch_for_term\u001b[1;34m(Text, SearchTerm, Transpositions, SubstitutionCost, Criterion, CriterionScale)\u001b[0m\n\u001b[0;32m     <a href='file:///c%3A/Users/frank/Documents/Fuzzy-Booth/FuzzyBooth.py?line=58'>59</a>\u001b[0m         \u001b[39mreturn\u001b[39;00m results\n\u001b[0;32m     <a href='file:///c%3A/Users/frank/Documents/Fuzzy-Booth/FuzzyBooth.py?line=59'>60</a>\u001b[0m \u001b[39mexcept\u001b[39;00m \u001b[39mException\u001b[39;00m \u001b[39mas\u001b[39;00m exc:\n\u001b[1;32m---> <a href='file:///c%3A/Users/frank/Documents/Fuzzy-Booth/FuzzyBooth.py?line=60'>61</a>\u001b[0m     msg \u001b[39m=\u001b[39m \u001b[39m\"\u001b[39m\u001b[39mError in search_for_term: \u001b[39m\u001b[39m\"\u001b[39m \u001b[39m+\u001b[39m \u001b[39mstr\u001b[39m(exc) \u001b[39m+\u001b[39m \u001b[39m\"\u001b[39m\u001b[39m, Search Term: \u001b[39m\u001b[39m\"\u001b[39m \u001b[39m+\u001b[39m \u001b[39mstr\u001b[39m(SearchTerm) \u001b[39m+\u001b[39m \u001b[39m\"\u001b[39m\u001b[39m, Search Term Length: \u001b[39m\u001b[39m\"\u001b[39m \u001b[39m+\u001b[39m \u001b[39mstr\u001b[39m(SearchTermlen) \u001b[39m+\u001b[39m \u001b[39m\"\u001b[39m\u001b[39m, Search Term Iterator Value: \u001b[39m\u001b[39m\"\u001b[39m \u001b[39m+\u001b[39m \u001b[39mstr\u001b[39m(subseqSearchTerm) \u001b[39m+\u001b[39m \u001b[39m\"\u001b[39m\u001b[39m, Text Length: \u001b[39m\u001b[39m\"\u001b[39m \u001b[39m+\u001b[39m \u001b[39mstr\u001b[39m(\u001b[39mlen\u001b[39m(text))\n\u001b[0;32m     <a href='file:///c%3A/Users/frank/Documents/Fuzzy-Booth/FuzzyBooth.py?line=61'>62</a>\u001b[0m     logging\u001b[39m.\u001b[39merror(msg)\n\u001b[0;32m     <a href='file:///c%3A/Users/frank/Documents/Fuzzy-Booth/FuzzyBooth.py?line=62'>63</a>\u001b[0m \u001b[39mreturn\u001b[39;00m results\n",
                        "\u001b[1;31mUnboundLocalError\u001b[0m: local variable 'subseqSearchTerm' referenced before assignment"
                    ]
                }
            ],
            "source": [
                "search_for_term(Text=text, SearchTerm='Londen')"
            ]
        }
    ],
    "metadata": {
        "interpreter": {
            "hash": "a2d90a185ba5105b42c1c8bbbf909fffa25b37b2e8f0b34469717e7ba019aab5"
        },
        "kernelspec": {
            "display_name": "Python 3.8.8 64-bit ('.venv': venv)",
            "name": "python3"
        },
        "language_info": {
            "codemirror_mode": {
                "name": "ipython",
                "version": 3
            },
            "file_extension": ".py",
            "mimetype": "text/x-python",
            "name": "python",
            "nbconvert_exporter": "python",
            "pygments_lexer": "ipython3",
            "version": "3.8.10"
        },
        "orig_nbformat": 4
    },
    "nbformat": 4,
    "nbformat_minor": 2
}
